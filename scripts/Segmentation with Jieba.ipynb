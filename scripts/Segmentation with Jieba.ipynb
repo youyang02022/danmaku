{
 "cells": [
  {
   "cell_type": "code",
   "execution_count": 3,
   "metadata": {},
   "outputs": [],
   "source": [
    "import jieba\n",
    "import os \n"
   ]
  },
  {
   "cell_type": "code",
   "execution_count": 6,
   "metadata": {},
   "outputs": [],
   "source": [
    "with open(r\"F:\\danmaku\\tagtok_extraction\\annotations.tsv_modified\",'r',encoding = 'utf8') as f:\n",
    "\n",
    "   lines = f.readlines()\n",
    "   \n",
    "   comments = []\n",
    "   for line in lines:\n",
    "    comments.append(line.split('\\t')[2])\n",
    "\n",
    "   #print(comments)\n",
    "\n",
    "segmentation = []   \n",
    "for comment in comments:\n",
    "   seg_list = jieba.cut(comment, cut_all=False)\n",
    "   segmentation.append(seg_list)\n",
    "   result = \"/ \".join(seg_list) # 精确模式\n",
    "  \n",
    "   segmentation.append(result)\n",
    " \n",
    "#print(segmentation)\n",
    "\n",
    "for item in segmentation[1::2]: \n",
    "   segmentation.append(item)\n",
    "\n",
    "#print(segmentation)\n",
    "\n",
    "\n"
   ]
  },
  {
   "cell_type": "code",
   "execution_count": 8,
   "metadata": {},
   "outputs": [],
   "source": [
    "with open(r\"F:\\danmaku\\tagtok_extraction\\annotations.tsv_modified_segmentation\",'w',encoding = 'utf8') as file:\n",
    "    for comment in segmentation:\n",
    "        #print(comment)\n",
    "        file.writelines(comment)\n",
    "        file.writelines('\\n')\n",
    "\n",
    "     \n",
    "    "
   ]
  },
  {
   "cell_type": "code",
   "execution_count": null,
   "metadata": {},
   "outputs": [],
   "source": []
  }
 ],
 "metadata": {
  "kernelspec": {
   "display_name": "Python 3.9.7 ('base')",
   "language": "python",
   "name": "python3"
  },
  "language_info": {
   "codemirror_mode": {
    "name": "ipython",
    "version": 3
   },
   "file_extension": ".py",
   "mimetype": "text/x-python",
   "name": "python",
   "nbconvert_exporter": "python",
   "pygments_lexer": "ipython3",
   "version": "3.9.7"
  },
  "orig_nbformat": 4,
  "vscode": {
   "interpreter": {
    "hash": "88279d2366fe020547cde40dd65aa0e3aa662a6ec1f3ca12d88834876c85e1a6"
   }
  }
 },
 "nbformat": 4,
 "nbformat_minor": 2
}
