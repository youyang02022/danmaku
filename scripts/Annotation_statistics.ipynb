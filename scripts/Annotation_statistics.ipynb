{
 "cells": [
  {
   "cell_type": "code",
   "execution_count": 2,
   "id": "b131b777",
   "metadata": {},
   "outputs": [
    {
     "name": "stdout",
     "output_type": "stream",
     "text": [
      "c1:5\n",
      "c2:497\n",
      "c3:644\n",
      "c4:0\n",
      "c5:246\n",
      "n:3068\n",
      "4460\n"
     ]
    }
   ],
   "source": [
    "import os \n",
    "\n",
    "\n",
    "with open ('F:/danmaku/tagtok_extraction/annotations.tsv',encoding = \"utf8\") as f:\n",
    "    contenu = f.read()\n",
    "    #print(contenu)\n",
    "    c1 = 0 \n",
    "    c2 = 0\n",
    "    c3 =0\n",
    "    c4 = 0\n",
    "    c5 = 0\n",
    "    n = 0\n",
    "      \n",
    "    for line in contenu.split(\"\\n\"):\n",
    "        for item in line.split(\"\\t\"): \n",
    "            #print(item)\n",
    "            if item == \"e_1\":\n",
    "                c1 = c1+1\n",
    "            if item == \"e_2\":\n",
    "                c2 = c2+1\n",
    "            if  item == \"e_3\":\n",
    "                c3 = c3+1\n",
    "            if  item == \"e_4\":\n",
    "                c4 = c4+1\n",
    "            if  item == \"e_5\":\n",
    "                c5 = c5+1\n",
    "            if item == \"None\":\n",
    "                n +=1\n",
    "        #if re.search(\"\\d{13}\",item):\n",
    "        \n",
    "           \n",
    "    print(\"c1:{}\".format(c1))\n",
    "    print(\"c2:{}\".format(c2))\n",
    "    print(\"c3:{}\".format(c3))\n",
    "    print(\"c4:{}\".format(c4))\n",
    "    print(\"c5:{}\".format(c5))\n",
    "    print(\"n:{}\".format(n))\n",
    "    print(c1+c2+c3+c4+c5+n)\n",
    "  \n",
    "    "
   ]
  },
  {
   "cell_type": "code",
   "execution_count": 3,
   "id": "52cdbb84",
   "metadata": {},
   "outputs": [
    {
     "name": "stdout",
     "output_type": "stream",
     "text": [
      "0.35919540229885055\n",
      "35.70402298850575\n",
      "46.264367816091955\n",
      "0.0\n",
      "17.67241379310345\n"
     ]
    }
   ],
   "source": [
    "t  = c1+c2+c3+c4+c5\n",
    "print(c1/t*100)\n",
    "print(c2/t*100)\n",
    "print(c3/t*100)\n",
    "print(c4/t*100)\n",
    "print(c5/t*100)"
   ]
  },
  {
   "cell_type": "code",
   "execution_count": 109,
   "id": "061a2476",
   "metadata": {},
   "outputs": [
    {
     "data": {
      "image/png": "[encoded data removed]",
      "text/plain": [
       "<Figure size 432x288 with 1 Axes>"
      ]
     },
     "metadata": {
      "needs_background": "light"
     },
     "output_type": "display_data"
    }
   ],
   "source": [
    "import matplotlib.pyplot as plt\n",
    "\n",
    "c = [\"c1\",\"c2\",\"c3\",\"c4\",\"c5\"]\n",
    "count = [c1,c2,c3,c4,c5]\n",
    "plt.bar(x = c,height = count)\n",
    "plt.show()\n",
    "\n",
    "\n"
   ]
  },
  {
   "cell_type": "code",
   "execution_count": 96,
   "id": "975265c0",
   "metadata": {},
   "outputs": [
    {
     "name": "stdout",
     "output_type": "stream",
     "text": [
      "[0, 0, 100, 96782, 119171, 121664, 122383, 124163, 124990, 134844, 135567, 140581, 140893, 142570, 145561, 148259, 148265, 148755, 149000, 150088]\n"
     ]
    }
   ],
   "source": [
    "from datetime import datetime\n",
    "from datetime import timedelta\n",
    "\n",
    "\n",
    "\n",
    "\n",
    "collection_time = []\n",
    "\n",
    "def sec_to_hms(seconds):\n",
    "        seconds = seconds//1000\n",
    "        h = seconds // 3600\n",
    "        m = seconds % 3600 // 60\n",
    "        s = seconds % 3600 % 60\n",
    "        return f'{h:02d}:{m:02d}:{s:02d}'\n",
    "\n",
    "with open ('F:/danmaku/tagtok_extraction/annotations.tsv',encoding = \"utf8\") as f:\n",
    "    \n",
    "    contenu = f.readlines()\n",
    "    \n",
    "    for line in contenu:\n",
    "        item = line.strip().split(\"\\t\")\n",
    "        if item[3]!= 'None':\n",
    "            timestamp = int(item[0])              \n",
    "            # timestamp = sec_to_hms(timestamp)\n",
    "            collection_time.append(timestamp)\n",
    "    \n",
    "    \n",
    "        \n",
    "    print(collection_time[:20])\n",
    "    \n",
    "    \n",
    "    \n",
    "    \n",
    " \n",
    "\n",
    "\n",
    "\n",
    "     \n",
    "        "
   ]
  },
  {
   "cell_type": "code",
   "execution_count": null,
   "id": "2a97c51f",
   "metadata": {},
   "outputs": [],
   "source": []
  },
  {
   "cell_type": "markdown",
   "id": "d8d8b096",
   "metadata": {},
   "source": []
  },
  {
   "cell_type": "code",
   "execution_count": 106,
   "id": "65501762",
   "metadata": {},
   "outputs": [
    {
     "name": "stdout",
     "output_type": "stream",
     "text": [
      "     category  timestamp\n",
      "0         e_3          0\n",
      "1         e_2          0\n",
      "2         e_2        100\n",
      "3         e_2      96782\n",
      "4         e_5     119171\n",
      "...       ...        ...\n",
      "1387      e_3    2416910\n",
      "1388      e_3    2433000\n",
      "1389      e_2    2440000\n",
      "1390      e_5    2490913\n",
      "1391      e_5    2490913\n",
      "\n",
      "[1392 rows x 2 columns]\n"
     ]
    },
    {
     "data": {
      "image/png": "[encoded data removed]",
      "text/plain": [
       "<Figure size 432x288 with 1 Axes>"
      ]
     },
     "metadata": {
      "needs_background": "light"
     },
     "output_type": "display_data"
    }
   ],
   "source": [
    "import seaborn as sns\n",
    "import numpy as np\n",
    "from pandas import DataFrame\n",
    "\n",
    "with open ('F:/danmaku/tagtok_extraction/annotations.tsv',encoding = \"utf8\") as f:\n",
    "    contenu = f.readlines()\n",
    "    \n",
    "    categories = []\n",
    "    items = [item.strip().split('\\t') for item in contenu]\n",
    "    for i in items:\n",
    "        category = i[3]\n",
    "        if category != 'None':\n",
    "            categories.append(category)\n",
    "    #print(categories[:50])\n",
    "    \n",
    "    d = dict()\n",
    "    d['category'] = categories\n",
    "    d['timestamp'] = collection_time\n",
    "        #print(type(t))\n",
    "        #print(list)\n",
    "    arr = DataFrame(data=d) \n",
    "        #print(arr)\n",
    "        \n",
    "\n",
    "        \n",
    "    print(arr)\n",
    "    sns.scatterplot(data=arr, x='timestamp', y='category')\n",
    "    \n",
    "\n",
    "\n"
   ]
  },
  {
   "cell_type": "code",
   "execution_count": 108,
   "id": "979b9e1c",
   "metadata": {},
   "outputs": [
    {
     "data": {
      "image/png": "[encoded data removed]",
      "text/plain": [
       "<Figure size 432x288 with 1 Axes>"
      ]
     },
     "metadata": {
      "needs_background": "light"
     },
     "output_type": "display_data"
    }
   ],
   "source": [
    "import seaborn as sns\n",
    "\n",
    "import numpy as np\n",
    "\n",
    "with open ('F:/danmaku/tagtok_extraction/annotations.tsv',encoding = \"utf8\") as f:\n",
    "    contenu = f.readlines()\n",
    "    \n",
    "    categories = []\n",
    "    items = [item.strip().split('\\t') for item in contenu]\n",
    "    for i in items:\n",
    "        category = i[3]\n",
    "        if category != 'None':\n",
    "            categories.append(category)\n",
    "    #print(categories[:50])\n",
    "\n",
    "    arr = np.array([categories, collection_time])\n",
    "        \n",
    "    sns.scatterplot(data=arr)"
   ]
  },
  {
   "cell_type": "code",
   "execution_count": null,
   "id": "10cd7318",
   "metadata": {},
   "outputs": [],
   "source": []
  },
  {
   "cell_type": "code",
   "execution_count": null,
   "id": "2f442789",
   "metadata": {},
   "outputs": [],
   "source": []
  }
 ],
 "metadata": {
  "interpreter": {
   "hash": "88279d2366fe020547cde40dd65aa0e3aa662a6ec1f3ca12d88834876c85e1a6"
  },
  "kernelspec": {
   "display_name": "Python 3 (ipykernel)",
   "language": "python",
   "name": "python3"
  },
  "language_info": {
   "codemirror_mode": {
    "name": "ipython",
    "version": 3
   },
   "file_extension": ".py",
   "mimetype": "text/x-python",
   "name": "python",
   "nbconvert_exporter": "python",
   "pygments_lexer": "ipython3",
   "version": "3.9.7"
  }
 },
 "nbformat": 4,
 "nbformat_minor": 5
}
