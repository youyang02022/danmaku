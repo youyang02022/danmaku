{
 "cells": [
  {
   "cell_type": "code",
   "execution_count": 1,
   "metadata": {},
   "outputs": [],
   "source": [
    "import os"
   ]
  },
  {
   "cell_type": "code",
   "execution_count": 4,
   "metadata": {},
   "outputs": [],
   "source": [
    "def r_removal (name, prefix='F:\\\\Danmu\\\\Entertainment-danmaku\\\\Entertainment-danmaku'):\n",
    "\n",
    "    prefix_f = os.path.join(prefix, '{}')\n",
    "\n",
    "    with open (prefix_f.format(name),'r',encoding = 'utf8') as f:\n",
    "        lines = f.readlines()\n",
    "        l = []\n",
    "        #i = 0\n",
    "        #m = 0\n",
    "        for line in lines:\n",
    "            #m  = m+1\n",
    "            if line not in l: \n",
    "                l.append(line)\n",
    "                #i = i+1\n",
    "        #print(l[:20]) \n",
    "        #print(i)# lines without repetition\n",
    "        #print(m)# lines in total \n",
    "\n",
    "\n",
    "        with open ((prefix_f + '_modified').format(name),'w',encoding = 'utf8' ) as file_removal:\n",
    "            for line in l:\n",
    "                file_removal.writelines(line)\n",
    "        \n",
    "        \n",
    "        \n",
    "       \n",
    "        \n",
    "        \n",
    "    \n",
    "        \n",
    "            \n",
    "\n",
    "    \n",
    "\n"
   ]
  },
  {
   "cell_type": "code",
   "execution_count": null,
   "metadata": {},
   "outputs": [],
   "source": []
  },
  {
   "cell_type": "code",
   "execution_count": null,
   "metadata": {},
   "outputs": [],
   "source": []
  }
 ],
 "metadata": {
  "kernelspec": {
   "display_name": "Python 3.9.7 ('base')",
   "language": "python",
   "name": "python3"
  },
  "language_info": {
   "codemirror_mode": {
    "name": "ipython",
    "version": 3
   },
   "file_extension": ".py",
   "mimetype": "text/x-python",
   "name": "python",
   "nbconvert_exporter": "python",
   "pygments_lexer": "ipython3",
   "version": "3.9.7"
  },
  "orig_nbformat": 4,
  "vscode": {
   "interpreter": {
    "hash": "88279d2366fe020547cde40dd65aa0e3aa662a6ec1f3ca12d88834876c85e1a6"
   }
  }
 },
 "nbformat": 4,
 "nbformat_minor": 2
}
